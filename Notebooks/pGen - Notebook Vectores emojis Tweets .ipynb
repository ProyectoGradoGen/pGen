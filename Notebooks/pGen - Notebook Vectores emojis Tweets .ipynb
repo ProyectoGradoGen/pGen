{
 "cells": [
  {
   "cell_type": "markdown",
   "metadata": {},
   "source": [
    "## Obtener los vectores de un tweet"
   ]
  },
  {
   "cell_type": "code",
   "execution_count": 2,
   "metadata": {
    "collapsed": false
   },
   "outputs": [],
   "source": [
    "from pymongo import MongoClient\n",
    "client = MongoClient()\n",
    "client = MongoClient(\"localhost\",27017)\n",
    "client = MongoClient(\"mongodb://localhost:27017/\")\n",
    "db = client[\"proyectodb\"]"
   ]
  },
  {
   "cell_type": "code",
   "execution_count": 162,
   "metadata": {
    "collapsed": true
   },
   "outputs": [],
   "source": [
    "import emot\n",
    "\n",
    "def ObtenerListaEmojis(stringTweet): #Funci'on para obtener la lista de emojis\n",
    "    emojis = []\n",
    "    listaJsonEmoji = emot.emoji( stringTweet)\n",
    "    for json in listaJsonEmoji:\n",
    "        emojis += [json['value']]\n",
    "    return emojis"
   ]
  },
  {
   "cell_type": "markdown",
   "metadata": {},
   "source": [
    "# GUARADAMOS LAS NUEVAS COLECCIONES\n",
    "\n",
    "## Obtenemos la lista de emojis para los usuarios de la base y guardarlos en la base de emojis"
   ]
  },
  {
   "cell_type": "code",
   "execution_count": 3,
   "metadata": {
    "collapsed": false
   },
   "outputs": [],
   "source": [
    "emojisMujeres = db['emojis_mujeres'] \n",
    "emojisHombres = db['emojis_hombres'] "
   ]
  },
  {
   "cell_type": "code",
   "execution_count": 203,
   "metadata": {
    "collapsed": false
   },
   "outputs": [],
   "source": [
    "collMujeres= db.tweets_mujeres_concat_url_cambiada.find(no_cursor_timeout=True)\n",
    "for us in collMujeres:\n",
    "    listaEmojis = ObtenerListaEmojis(us['text'])\n",
    "    jsonEmojis= {'screen_name': us['screen_name'] , 'emojis': listaEmojis}\n",
    "    emojisMujeres.insert_one(jsonEmojis)"
   ]
  },
  {
   "cell_type": "code",
   "execution_count": 205,
   "metadata": {
    "collapsed": true
   },
   "outputs": [],
   "source": [
    "collHombres= db.tweets_hombres_concat_url_cambiada.find(no_cursor_timeout=True)\n",
    "for us in collHombres:\n",
    "    listaEmojis = ObtenerListaEmojis(us['text'])\n",
    "    jsonEmojis= {'screen_name': us['screen_name'] , 'emojis': listaEmojis}\n",
    "    emojisHombres.insert_one(jsonEmojis)"
   ]
  },
  {
   "cell_type": "code",
   "execution_count": 43,
   "metadata": {
    "collapsed": false
   },
   "outputs": [],
   "source": [
    "def obtenerNombreEmoji(stringDemojize):\n",
    "    separador= \":\"\n",
    "    occurrences = stringDemojize.count(separador)\n",
    "    indices = [i for i, a in enumerate(stringDemojize) if a == separador]\n",
    "    return stringDemojize[indices[0]+1 : indices[1]]"
   ]
  },
  {
   "cell_type": "code",
   "execution_count": 44,
   "metadata": {
    "collapsed": false
   },
   "outputs": [
    {
     "name": "stdout",
     "output_type": "stream",
     "text": [
      ":thumbs_up::dark_skin_tone:\n",
      "thumbs_up\n",
      "***************************\n",
      ":see-no-evil_monkey:\n",
      "see-no-evil_monkey\n",
      "***************************\n",
      ":thinking_face:\n",
      "thinking_face\n",
      "***************************\n"
     ]
    }
   ],
   "source": [
    "import emoji\n",
    "\n",
    "name = emoji.demojize('👍🏿')\n",
    "print(name)\n",
    "print(obtenerNombreEmoji(name))\n",
    "print(\"***************************\")\n",
    "name = emoji.demojize('🙈')\n",
    "print(name)\n",
    "print(obtenerNombreEmoji(name))\n",
    "print(\"***************************\")\n",
    "name = emoji.demojize('🤔')\n",
    "print(name)\n",
    "print(obtenerNombreEmoji(name))\n",
    "print(\"***************************\")\n",
    " \n",
    "\n"
   ]
  },
  {
   "cell_type": "code",
   "execution_count": null,
   "metadata": {
    "collapsed": true
   },
   "outputs": [],
   "source": []
  }
 ],
 "metadata": {
  "kernelspec": {
   "display_name": "Python 3",
   "language": "python",
   "name": "python3"
  },
  "language_info": {
   "codemirror_mode": {
    "name": "ipython",
    "version": 3
   },
   "file_extension": ".py",
   "mimetype": "text/x-python",
   "name": "python",
   "nbconvert_exporter": "python",
   "pygments_lexer": "ipython3",
   "version": "3.6.0"
  }
 },
 "nbformat": 4,
 "nbformat_minor": 2
}
