{
 "cells": [
  {
   "cell_type": "code",
   "execution_count": null,
   "metadata": {
    "collapsed": false
   },
   "outputs": [],
   "source": [
    "#Conexión a la base de datos\n",
    "from pymongo import MongoClient\n",
    "client = MongoClient()\n",
    "client = MongoClient(\"localhost\",27017)\n",
    "client = MongoClient(\"mongodb://localhost:27017/\")\n",
    "db = client[\"proyectodb\"]\n",
    "\n",
    "\n",
    "db.collection_names()"
   ]
  },
  {
   "cell_type": "markdown",
   "metadata": {},
   "source": [
    "### Cambiar las urls en todos los tweets de la coleccion 'tweets_hombres_simple_urlLarga'"
   ]
  },
  {
   "cell_type": "code",
   "execution_count": null,
   "metadata": {
    "collapsed": false
   },
   "outputs": [],
   "source": [
    "coltweets_hombres_simple_urlLarga = db.tweets_hombres_simple_urlLarga.find(no_cursor_timeout=True)\n",
    "coltweets_hombres_simple_urlLargaAux = coltweets_hombres_simple_urlLarga"
   ]
  },
  {
   "cell_type": "code",
   "execution_count": null,
   "metadata": {
    "collapsed": false
   },
   "outputs": [],
   "source": [
    "cont = 0\n",
    "\n",
    "#Ejemplo para la colección tweets_hombres_simple_urlLarga\n",
    "seModificoAlgo = False\n",
    "for s in coltweets_hombres_simple_urlLargaAux:\n",
    "    tweetViejo =  s['text']\n",
    "    tweet = tweetViejo\n",
    "    screen_name = s['user']['screen_name']\n",
    "    if ('media' in s['entities']):\n",
    "        for m in s['entities']['media']:\n",
    "            seModificoAlgo = True\n",
    "            url = m['url']\n",
    "            urlNew = m['expanded_url']\n",
    "            tweet = tweet.replace(url, urlNew)\n",
    "    if ('urls' in s['entities']):\n",
    "        for u in s['entities']['urls']:\n",
    "            seModificoAlgo = True\n",
    "            url = u['url']\n",
    "            urlNew = u['expanded_url']\n",
    "            tweet = tweet.replace(url, urlNew)\n",
    "        if seModificoAlgo:\n",
    "            db.tweets_hombres_simple_urlLarga.update({'user.screen_name':screen_name, 'text':tweetViejo},{\"$set\":{'text':tweet}})\n",
    "            seModificoAlgo = False\n",
    "    print()\n",
    "    cont = cont + 1\n"
   ]
  }
 ],
 "metadata": {
  "kernelspec": {
   "display_name": "Python 3",
   "language": "python",
   "name": "python3"
  },
  "language_info": {
   "codemirror_mode": {
    "name": "ipython",
    "version": 3
   },
   "file_extension": ".py",
   "mimetype": "text/x-python",
   "name": "python",
   "nbconvert_exporter": "python",
   "pygments_lexer": "ipython3",
   "version": "3.6.0"
  }
 },
 "nbformat": 4,
 "nbformat_minor": 2
}
