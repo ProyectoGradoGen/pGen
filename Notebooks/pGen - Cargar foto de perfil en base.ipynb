{
 "cells": [
  {
   "cell_type": "markdown",
   "metadata": {},
   "source": [
    "## Imports para computer vision"
   ]
  },
  {
   "cell_type": "code",
   "execution_count": null,
   "metadata": {
    "collapsed": true
   },
   "outputs": [],
   "source": [
    "import time \n",
    "import requests\n",
    "import cv2\n",
    "import operator\n",
    "import numpy as np\n",
    "from __future__ import print_function\n",
    "import matplotlib.pyplot as plt\n",
    "%matplotlib inline "
   ]
  },
  {
   "cell_type": "markdown",
   "metadata": {},
   "source": [
    "## Url y key del servicio de microsoft"
   ]
  },
  {
   "cell_type": "code",
   "execution_count": null,
   "metadata": {
    "collapsed": true
   },
   "outputs": [],
   "source": [
    "# Variables\n",
    "_url = 'https://westus.api.cognitive.microsoft.com/vision/v1.0/analyze'\n",
    "\n",
    "_key = '5aed9297a1ab46c68d649561213755a6'#None #Here you have to paste your primary key\n",
    "_maxNumRetries = 10"
   ]
  },
  {
   "cell_type": "markdown",
   "metadata": {},
   "source": [
    "## Conexión a la base de datos"
   ]
  },
  {
   "cell_type": "code",
   "execution_count": null,
   "metadata": {
    "collapsed": false
   },
   "outputs": [],
   "source": [
    "from pymongo import MongoClient\n",
    "client = MongoClient()\n",
    "# alternatively..\n",
    "client = MongoClient(\"localhost\",27017)\n",
    "client = MongoClient(\"mongodb://localhost:27017/\")\n",
    "db = client[\"proyecto\"]\n",
    "\n",
    "db.collection_names()\n"
   ]
  },
  {
   "cell_type": "markdown",
   "metadata": {},
   "source": [
    "## Obtenemos las colecciones"
   ]
  },
  {
   "cell_type": "code",
   "execution_count": null,
   "metadata": {
    "collapsed": false
   },
   "outputs": [],
   "source": [
    "collUsMujeres = db['usuarios_mujeres'] \n",
    "collUsHombres = db['usuarios_hombres']\n",
    "\n",
    "collHombres= db.usuarios_hombres.find(no_cursor_timeout=True)\n",
    "#timeout(False);\n",
    "print(str(collHombres.count()))\n",
    "\n",
    "collMujeres= db.usuarios_mujeres.find(no_cursor_timeout=True)\n",
    "#.timeout(False);\n",
    "\n",
    "print(str(collMujeres.count()))\n",
    "\n",
    "collHombresAux = collHombres\n",
    "collMujeresAux = collMujeres\n"
   ]
  },
  {
   "cell_type": "markdown",
   "metadata": {},
   "source": [
    "## Funciones Microsoft"
   ]
  },
  {
   "cell_type": "code",
   "execution_count": null,
   "metadata": {
    "collapsed": true
   },
   "outputs": [],
   "source": [
    "def processRequest( json, data, headers, params ):\n",
    "\n",
    "    \"\"\"\n",
    "    Helper function to process the request to Project Oxford\n",
    "\n",
    "    Parameters:\n",
    "    json: Used when processing images from its URL. See API Documentation\n",
    "    data: Used when processing image read from disk. See API Documentation\n",
    "    headers: Used to pass the key information and the data type request\n",
    "    \"\"\"\n",
    "\n",
    "    retries = 0\n",
    "    result = None\n",
    "\n",
    "    while True:\n",
    "        response = requests.request( 'post', _url, json = json, data = data, headers = headers, params = params )\n",
    "        print(\"JSON: %s\"  % response.json())\n",
    "        if response.status_code == 429: \n",
    "\n",
    "            print( \"Message: %s\" % ( response.json()['error']['message'] ) )\n",
    "\n",
    "            if retries <= _maxNumRetries: \n",
    "                time.sleep(1) \n",
    "                retries += 1\n",
    "                continue\n",
    "            else: \n",
    "                print( 'Error: failed after retrying!' )\n",
    "                break\n",
    "\n",
    "        elif response.status_code == 200 or response.status_code == 201:\n",
    "\n",
    "            if 'content-length' in response.headers and int(response.headers['content-length']) == 0: \n",
    "                result = None \n",
    "            elif 'content-type' in response.headers and isinstance(response.headers['content-type'], str): \n",
    "                if 'application/json' in response.headers['content-type'].lower(): \n",
    "                    result = response.json() if response.content else None \n",
    "                elif 'image' in response.headers['content-type'].lower(): \n",
    "                    result = response.content\n",
    "        else:\n",
    "            print( \"Error code: %d\" % ( response.status_code ) )\n",
    "            print( \"Message: %s\" % ( response.json()['error']['message'] ) )\n",
    "\n",
    "        break\n",
    "    \n",
    "     \n",
    "    return result"
   ]
  },
  {
   "cell_type": "code",
   "execution_count": null,
   "metadata": {
    "collapsed": true
   },
   "outputs": [],
   "source": [
    "def renderResultOnImage( result, img ):\n",
    "    \n",
    "    \"\"\"Display the obtained results onto the input image\"\"\"\n",
    "\n",
    "    R = int(result['color']['accentColor'][:2],16)\n",
    "    G = int(result['color']['accentColor'][2:4],16)\n",
    "    B = int(result['color']['accentColor'][4:],16)\n",
    "\n",
    "    cv2.rectangle( img,(0,0), (img.shape[1], img.shape[0]), color = (R,G,B), thickness = 25 )\n",
    "\n",
    "    if 'categories' in result:\n",
    "        categoryName = sorted(result['categories'], key=lambda x: x['score'])[0]['name']\n",
    "        cv2.putText( img, categoryName, (30,70), cv2.FONT_HERSHEY_SIMPLEX, 2, (255,0,0), 3 )"
   ]
  },
  {
   "cell_type": "markdown",
   "metadata": {},
   "source": [
    "## Obtenemos las imagenes de profile de los usuuarios y llamamos al servicio de microsoft"
   ]
  },
  {
   "cell_type": "code",
   "execution_count": null,
   "metadata": {
    "collapsed": false
   },
   "outputs": [],
   "source": [
    "import time\n",
    "import json\n",
    "\n",
    "tweets = []\n",
    "erroresInsert = []\n",
    "cont=0\n",
    "cantMujeres = collMujeres.count()\n",
    "\n",
    "#urlImage = 'https://oxfordportal.blob.core.windows.net/vision/Analysis/3.jpg'\n",
    "urlImage = 'https://scontent.fmvd3-1.fna.fbcdn.net/t31.0-8/13909174_113633669081886_6514259191971925065_o.jpg'\n",
    "\n",
    "# Computer Vision parameters\n",
    "params = { 'visualFeatures' : 'Color,Categories,Description,Tags,Faces'} \n",
    "data = None\n",
    "\n",
    "headers = dict()\n",
    "headers['Ocp-Apim-Subscription-Key'] = _key\n",
    "headers['Content-Type'] = 'application/json' \n",
    "\n",
    "for us in collMujeresAux[0:5]: \n",
    "    try: \n",
    "        print(us['screen_name'] + \" \" + str(cont))\n",
    "        #user = api.get_user(us['screen_name'])\n",
    "        #urlProfle = user._json['profile_image_url']\n",
    "        urlProfle=us['profile_image_url']\n",
    "        urlProfle = urlProfle.replace(\"_normal\", \"\")\n",
    "        json = { 'url': urlProfle } \n",
    "        \n",
    "        result = processRequest( json, data, headers, params )\n",
    "        if result is not None:\n",
    "            # Load the original image, fetched from the URL\n",
    "            arr = np.asarray( bytearray( requests.get( urlImage ).content ), dtype=np.uint8 )\n",
    "            img = cv2.cvtColor( cv2.imdecode( arr, -1 ), cv2.COLOR_BGR2RGB )\n",
    "\n",
    "            renderResultOnImage( result, img )\n",
    "\n",
    "            ig, ax = plt.subplots(figsize=(15, 20))\n",
    "            ax.imshow( img )\n",
    "\n",
    "        print(user._json['profile_banner_url'])\n",
    "        print(urlProfle)       \n",
    "        print(\"---------------------------------\") \n",
    "    except Exception as e:\n",
    "            \n",
    "            print(\"us error: \" + us['screen_name'])\n",
    "            print(e)   \n",
    "    cont = cont +1\n",
    "\n",
    "   "
   ]
  }
 ],
 "metadata": {
  "kernelspec": {
   "display_name": "Python 3",
   "language": "python",
   "name": "python3"
  },
  "language_info": {
   "codemirror_mode": {
    "name": "ipython",
    "version": 3
   },
   "file_extension": ".py",
   "mimetype": "text/x-python",
   "name": "python",
   "nbconvert_exporter": "python",
   "pygments_lexer": "ipython3",
   "version": "3.6.0"
  }
 },
 "nbformat": 4,
 "nbformat_minor": 1
}
